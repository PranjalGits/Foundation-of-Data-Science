{
  "nbformat": 4,
  "nbformat_minor": 0,
  "metadata": {
    "colab": {
      "provenance": [],
      "authorship_tag": "ABX9TyPwlPAryLLvz758vsJ3VMoD",
      "include_colab_link": true
    },
    "kernelspec": {
      "name": "python3",
      "display_name": "Python 3"
    },
    "language_info": {
      "name": "python"
    }
  },
  "cells": [
    {
      "cell_type": "markdown",
      "metadata": {
        "id": "view-in-github",
        "colab_type": "text"
      },
      "source": [
        "<a href=\"https://colab.research.google.com/github/PranjalGits/Foundation-of-Data-Science/blob/main/unit_3.ipynb\" target=\"_parent\"><img src=\"https://colab.research.google.com/assets/colab-badge.svg\" alt=\"Open In Colab\"/></a>"
      ]
    },
    {
      "cell_type": "code",
      "execution_count": null,
      "metadata": {
        "id": "zwdO-imLYOQ3"
      },
      "outputs": [],
      "source": [
        "from google.colab import files\n",
        "from IPython.display import Image"
      ]
    },
    {
      "cell_type": "markdown",
      "source": [
        "Descriptive statistics are numerical or graphical techniques used to summarize and describe the main features of a dataset. These statistics help to provide a snapshot of the data and allow for easy understanding of its characteristics without making any inferences or generalizations beyond the sample being studied. Some common measures of descriptive statistics include:\n",
        "\n",
        "1. **Measures of Central Tendency**: These statistics describe the central or average value of a dataset. The three main measures are:\n",
        "   - Mean: The arithmetic average of all the values in the dataset.\n",
        "   - Median: The middle value in a sorted list of numbers.\n",
        "   - Mode: The value that appears most frequently in the dataset.\n",
        "\n",
        "2. **Measures of Variability or Dispersion**: These statistics describe how spread out the values in the dataset are. Common measures include:\n",
        "   - Range: The difference between the maximum and minimum values in the dataset.\n",
        "   - Variance: The average of the squared differences from the mean.\n",
        "   - Standard Deviation: The square root of the variance. It measures the average distance of each observation from the mean.\n",
        "   - Interquartile Range (IQR): The range between the first quartile (25th percentile) and the third quartile (75th percentile).\n",
        "\n",
        "3. **Measures of Shape**: These statistics describe the shape of the distribution of data. They include:\n",
        "   - Skewness: A measure of the asymmetry of the distribution.\n",
        "   - Kurtosis: A measure of the \"tailedness\" of the distribution.\n",
        "\n",
        "4. **Frequency Distribution**: This is a summary of how often each value occurs in a dataset. It can be presented as a table, histogram, or frequency polygon.\n",
        "\n",
        "5. **Percentiles**: Percentiles divide a dataset into 100 equal parts, with each part representing 1% of the data. The nth percentile is the value below which n% of the data fall.\n",
        "\n",
        "6. **Correlation**: Describes the strength and direction of the relationship between two variables.\n",
        "\n",
        "\n",
        "\n",
        "\n",
        "1. **Arithmetic Mean**: The arithmetic mean, often referred to simply as the mean, is perhaps the most commonly used measure of central tendency. It's calculated by summing up all the values in a dataset and then dividing by the total number of values. The mean provides a measure of the \"average\" value in the dataset. However, it can be sensitive to extreme values (outliers) in the dataset, which can skew its value.\n",
        "\n",
        "2. **Median**:  The median is the middle value of a dataset when it's arranged in ascending order. If the dataset contains an odd number of observations, the median is the value exactly in the middle. If it contains an even number of observations, the median is the average of the two middle values. The median is often considered a robust measure of central tendency because it's not affected by extreme values as much as the mean.\n",
        "\n",
        "3. **Mode**: The mode is the value that appears most frequently in a dataset. Unlike the mean and median, the mode can be applied to both numerical and categorical data. A dataset can have one mode (unimodal), multiple modes (multimodal), or no mode (no value appears more than once).\n",
        "\n",
        "4. **Geometric Mean**: The geometric mean is useful for datasets where values are related multiplicatively rather than additively. It's calculated by taking the nth root of the product of all values in the dataset, where n is the number of values. The geometric mean is often used in financial and investment analysis.\n",
        "\n",
        "5. **Harmonic Mean**:The harmonic mean is particularly useful when dealing with rates or ratios. It's the reciprocal of the arithmetic mean of the reciprocals of the values in the dataset. It's calculated as the total number of values divided by the sum of the reciprocals of the values."
      ],
      "metadata": {
        "id": "Y4JqwzDKZNwH"
      }
    },
    {
      "cell_type": "code",
      "source": [
        "import numpy as np\n",
        "from scipy import stats\n",
        "\n",
        "# Sample dataset\n",
        "data = np.array([10, 20, 30, 40, 50, 60, 70, 80, 90, 100])\n",
        "\n",
        "# Arithmetic Mean\n",
        "arithmetic_mean = np.mean(data)\n",
        "\n",
        "# Median\n",
        "median = np.median(data)\n",
        "\n",
        "# Mode\n",
        "mode = stats.mode(data)[0]\n",
        "\n",
        "# Geometric Mean\n",
        "geometric_mean = stats.gmean(data)\n",
        "\n",
        "# Harmonic Mean\n",
        "harmonic_mean = stats.hmean(data)\n",
        "\n",
        "print(\"Arithmetic Mean:\", arithmetic_mean)\n",
        "print(\"Median:\", median)\n",
        "print(\"Mode:\", mode)\n",
        "print(\"Geometric Mean:\", geometric_mean)\n",
        "print(\"Harmonic Mean:\", harmonic_mean)\n"
      ],
      "metadata": {
        "colab": {
          "base_uri": "https://localhost:8080/"
        },
        "id": "8MGA8CD-ac41",
        "outputId": "9b63197c-14f2-4da2-99ac-982161d087aa"
      },
      "execution_count": null,
      "outputs": [
        {
          "output_type": "stream",
          "name": "stdout",
          "text": [
            "Arithmetic Mean: 55.0\n",
            "Median: 55.0\n",
            "Mode: 10\n",
            "Geometric Mean: 45.28728688116765\n",
            "Harmonic Mean: 34.14171521474054\n"
          ]
        }
      ]
    },
    {
      "cell_type": "markdown",
      "source": [
        "In this code:\n",
        "\n",
        "We import the necessary libraries: NumPy for numerical operations and SciPy for statistical functions.\n",
        "We define a sample dataset.\n",
        "\n",
        "Arithmetic mean is calculated using np.mean().\n",
        "\n",
        "Median is calculated using np.median().\n",
        "\n",
        "Mode is calculated using stats.mode() from SciPy.\n",
        "\n",
        "Geometric mean is calculated using stats.gmean() from SciPy.\n",
        "\n",
        "Harmonic mean is calculated using stats.hmean() from SciPy."
      ],
      "metadata": {
        "id": "psWDFMnGa4iH"
      }
    },
    {
      "cell_type": "markdown",
      "source": [
        "Partition values typically refer to dividing a dataset into distinct groups or categories based on specific criteria. This partitioning process helps in organizing and analyzing data more effectively by grouping similar data points together.\n",
        "\n",
        "Certainly! Let's delve deeper into quartiles, deciles, and percentiles:\n",
        "\n",
        "1. **Quartiles**:\n",
        "   Quartiles divide a dataset into four equal parts, representing different segments of the data's distribution.\n",
        "   - **First Quartile (Q1)**: This is the value below which 25% of the data fall. It separates the lowest 25% of the data from the rest.\n",
        "   - **Second Quartile (Q2)**: Also known as the median, it represents the middle value of the dataset. Half of the data falls below this value, and half falls above it.\n",
        "   - **Third Quartile (Q3)**: This is the value below which 75% of the data fall. It separates the lowest 75% of the data from the highest 25%.\n",
        "\n",
        "2. **Deciles**:\n",
        "   Deciles divide a dataset into ten equal parts, providing a more detailed view of the data's distribution.\n",
        "   - Each decile represents a specific percentage of the data: the first decile (D1) represents the 10th percentile, the second decile (D2) represents the 20th percentile, and so on.\n",
        "   - Deciles provide insight into how the data is distributed across various segments, helping to identify patterns or outliers.\n",
        "\n",
        "3. **Percentiles**:\n",
        "   Percentiles divide a dataset into hundred equal parts, offering a granular understanding of the data's distribution.\n",
        "   - Each percentile represents a specific percentage of the data: the first percentile (P1) represents the 1st percentile, the second percentile (P2) represents the 2nd percentile, and so on, up to the 99th percentile (P99).\n",
        "   - Percentiles allow for precise analysis of data distribution, especially in fields like finance, where small changes in percentiles can have significant implications.\n"
      ],
      "metadata": {
        "id": "5gtDqdzycIw8"
      }
    },
    {
      "cell_type": "code",
      "source": [
        "import numpy as np\n",
        "\n",
        "# Sample dataset\n",
        "data = np.array([17, 18, 20, 22, 24, 25, 27, 28, 29, 30, 32, 35, 38, 40, 45])\n",
        "\n",
        "# Quartiles\n",
        "q1 = np.percentile(data, 25)\n",
        "q2 = np.percentile(data, 50)\n",
        "q3 = np.percentile(data, 75)\n",
        "\n",
        "# Deciles\n",
        "deciles = [np.percentile(data, i) for i in range(10, 100, 10)]\n",
        "\n",
        "# Percentiles\n",
        "percentiles = [np.percentile(data, i) for i in range(1, 101)]\n",
        "\n",
        "print(\"Quartiles:\")\n",
        "print(\"Q1:\", q1)\n",
        "\n",
        "print(\"Q2 (Median):\", q2)\n",
        "print(\"Q3:\", q3)\n",
        "\n",
        "print(\"\\nDeciles:\")\n",
        "for i, decile in enumerate(deciles, start=1):\n",
        "    print(\"D{}:\".format(i), decile)\n",
        "\n",
        "print(\"\\nPercentiles:\")\n",
        "for i, percentile in enumerate(percentiles, start=1):\n",
        "    print(\"P{}:\".format(i), percentile)\n",
        "\n",
        "\n"
      ],
      "metadata": {
        "id": "gxgz0yaaclvb",
        "colab": {
          "base_uri": "https://localhost:8080/"
        },
        "outputId": "0e1c6942-aa4f-475d-8c20-7771e967ed0e"
      },
      "execution_count": null,
      "outputs": [
        {
          "output_type": "stream",
          "name": "stdout",
          "text": [
            "Quartiles:\n",
            "Q1: 23.0\n",
            "Q2 (Median): 28.0\n",
            "Q3: 33.5\n",
            "\n",
            "Deciles:\n",
            "D1: 18.8\n",
            "D2: 21.6\n",
            "D3: 24.2\n",
            "D4: 26.200000000000003\n",
            "D5: 28.0\n",
            "D6: 29.4\n",
            "D7: 31.599999999999998\n",
            "D8: 35.6\n",
            "D9: 39.2\n",
            "\n",
            "Percentiles:\n",
            "P1: 17.14\n",
            "P2: 17.28\n",
            "P3: 17.42\n",
            "P4: 17.56\n",
            "P5: 17.7\n",
            "P6: 17.84\n",
            "P7: 17.98\n",
            "P8: 18.240000000000002\n",
            "P9: 18.52\n",
            "P10: 18.8\n",
            "P11: 19.08\n",
            "P12: 19.36\n",
            "P13: 19.64\n",
            "P14: 19.92\n",
            "P15: 20.2\n",
            "P16: 20.48\n",
            "P17: 20.76\n",
            "P18: 21.04\n",
            "P19: 21.32\n",
            "P20: 21.6\n",
            "P21: 21.88\n",
            "P22: 22.16\n",
            "P23: 22.44\n",
            "P24: 22.72\n",
            "P25: 23.0\n",
            "P26: 23.28\n",
            "P27: 23.560000000000002\n",
            "P28: 23.84\n",
            "P29: 24.06\n",
            "P30: 24.2\n",
            "P31: 24.34\n",
            "P32: 24.48\n",
            "P33: 24.62\n",
            "P34: 24.76\n",
            "P35: 24.9\n",
            "P36: 25.08\n",
            "P37: 25.36\n",
            "P38: 25.64\n",
            "P39: 25.92\n",
            "P40: 26.200000000000003\n",
            "P41: 26.479999999999997\n",
            "P42: 26.759999999999998\n",
            "P43: 27.02\n",
            "P44: 27.16\n",
            "P45: 27.3\n",
            "P46: 27.44\n",
            "P47: 27.58\n",
            "P48: 27.72\n",
            "P49: 27.86\n",
            "P50: 28.0\n",
            "P51: 28.14\n",
            "P52: 28.28\n",
            "P53: 28.42\n",
            "P54: 28.560000000000002\n",
            "P55: 28.700000000000003\n",
            "P56: 28.84\n",
            "P57: 28.98\n",
            "P58: 29.119999999999997\n",
            "P59: 29.259999999999998\n",
            "P60: 29.4\n",
            "P61: 29.54\n",
            "P62: 29.68\n",
            "P63: 29.82\n",
            "P64: 29.96\n",
            "P65: 30.2\n",
            "P66: 30.48\n",
            "P67: 30.76\n",
            "P68: 31.040000000000003\n",
            "P69: 31.32\n",
            "P70: 31.599999999999998\n",
            "P71: 31.88\n",
            "P72: 32.24\n",
            "P73: 32.66\n",
            "P74: 33.08\n",
            "P75: 33.5\n",
            "P76: 33.92\n",
            "P77: 34.34\n",
            "P78: 34.76\n",
            "P79: 35.18\n",
            "P80: 35.6\n",
            "P81: 36.019999999999996\n",
            "P82: 36.44\n",
            "P83: 36.86\n",
            "P84: 37.28\n",
            "P85: 37.7\n",
            "P86: 38.08\n",
            "P87: 38.36\n",
            "P88: 38.64\n",
            "P89: 38.92\n",
            "P90: 39.2\n",
            "P91: 39.480000000000004\n",
            "P92: 39.760000000000005\n",
            "P93: 40.10000000000001\n",
            "P94: 40.8\n",
            "P95: 41.49999999999999\n",
            "P96: 42.199999999999996\n",
            "P97: 42.9\n",
            "P98: 43.599999999999994\n",
            "P99: 44.3\n",
            "P100: 45.0\n"
          ]
        }
      ]
    },
    {
      "cell_type": "markdown",
      "source": [
        "Measures of dispersion, also known as measures of variability, quantify the spread or dispersion of data points in a dataset. They provide insights into how much individual data points deviate from the central tendency (such as the mean or median) of the dataset.\n",
        "\n",
        "\n",
        "1. **Mean Deviation**:\n",
        "   - Mean deviation measures the average absolute deviation of each data point from the mean of the dataset.\n",
        "   - It provides a measure of the average distance of data points from the mean.\n",
        "   - Calculating mean deviation involves finding the absolute difference between each data point and the mean, then averaging these absolute differences.\n",
        "   - Mean deviation is less sensitive to extreme values (outliers) compared to the standard deviation.\n",
        "\n",
        "2. **Quartile Deviation**:\n",
        "   - Quartile deviation measures the spread of the middle 50% of the data around the median.\n",
        "   - It is calculated as half of the difference between the third quartile (Q3) and the first quartile (Q1).\n",
        "   - Quartile deviation provides a measure of variability that is robust to extreme values, making it useful when the data contains outliers.\n",
        "\n",
        "3. **Standard Deviation**:\n",
        "   - Standard deviation is perhaps the most commonly used measure of dispersion.\n",
        "   - It measures the average deviation of each data point from the mean of the dataset.\n",
        "   - Standard deviation is calculated by taking the square root of the variance, where the variance is the average of the squared differences between each data point and the mean.\n",
        "   - Standard deviation quantifies the spread of data points around the mean and is sensitive to extreme values.\n",
        "\n",
        "4. **Coefficient of Variation (CV)**:\n",
        "   - The coefficient of variation is a relative measure of dispersion that compares the standard deviation to the mean of the dataset.\n",
        "   - It is expressed as a percentage and provides a measure of how much variation there is relative to the mean.\n",
        "   - CV is useful for comparing the variability of datasets with different units or scales, as it standardizes the measure of dispersion.\n",
        "   - A lower CV indicates less variability relative to the mean, while a higher CV indicates more variability."
      ],
      "metadata": {
        "id": "Vky6z1E0fmGG"
      }
    },
    {
      "cell_type": "code",
      "source": [
        "import numpy as np\n",
        "\n",
        "# Sample dataset\n",
        "data = np.array([10, 20, 30, 40, 50, 60, 70, 80, 90, 100])\n",
        "\n",
        "# Mean\n",
        "mean = np.mean(data)\n",
        "\n",
        "# Mean Deviation\n",
        "mean_deviation = np.mean(np.abs(data - mean))\n",
        "\n",
        "# Quartiles\n",
        "q1 = np.percentile(data, 25)\n",
        "q3 = np.percentile(data, 75)\n",
        "\n",
        "# Quartile Deviation\n",
        "quartile_deviation = (q3 - q1) / 2\n",
        "\n",
        "# Standard Deviation\n",
        "std_deviation = np.std(data)\n",
        "\n",
        "# Coefficient of Variation\n",
        "coeff_variation = (std_deviation / mean) * 100\n",
        "\n",
        "print(\"Mean:\", mean)\n",
        "print(\"Mean Deviation:\", mean_deviation)\n",
        "print(\"Quartile Deviation:\", quartile_deviation)\n",
        "print(\"Standard Deviation:\", std_deviation)\n",
        "print(\"Coefficient of Variation:\", coeff_variation)\n"
      ],
      "metadata": {
        "id": "5cELge9CcJ1s",
        "colab": {
          "base_uri": "https://localhost:8080/"
        },
        "outputId": "15b97d92-3fba-4df2-d7cc-2996b3c2416e"
      },
      "execution_count": null,
      "outputs": [
        {
          "output_type": "stream",
          "name": "stdout",
          "text": [
            "Mean: 55.0\n",
            "Mean Deviation: 25.0\n",
            "Quartile Deviation: 22.5\n",
            "Standard Deviation: 28.722813232690143\n",
            "Coefficient of Variation: 52.22329678670935\n"
          ]
        }
      ]
    },
    {
      "cell_type": "markdown",
      "source": [
        "In this code:\n",
        "\n",
        "We calculate the mean using np.mean().\n",
        "\n",
        "Mean deviation is calculated by taking the absolute difference between each data point and the mean, then finding the mean of these absolute differences.\n",
        "\n",
        "Quartiles are calculated using np.percentile() for Q1 and Q3.\n",
        "\n",
        "Quartile deviation is half of the interquartile range (Q3 - Q1).\n",
        "\n",
        "Standard deviation is calculated using np.std().\n",
        "\n",
        "Coefficient of variation is calculated by dividing the standard deviation by the mean and then multiplying by 100 to express it as a percentage."
      ],
      "metadata": {
        "id": "TPEyRdxKg4eX"
      }
    },
    {
      "cell_type": "markdown",
      "source": [
        "In statistics, moments are numerical values that summarize aspects of the shape and distribution of a dataset. Moments are used to describe the properties of a probability distribution or a dataset, providing insights into its central tendency, variability, skewness, and kurtosis.\n",
        "\n",
        "Certainly! Moments are statistical measures that summarize the shape of a probability distribution. Two commonly used moments for understanding the shape of a distribution are skewness and kurtosis:\n",
        "\n",
        "1. **Skewness**:\n",
        "   - Skewness measures the asymmetry of the distribution.\n",
        "   - A symmetric distribution has a skewness of zero.\n",
        "   - Positive skewness indicates that the tail on the right side of the distribution is longer or fatter than the left side, while negative skewness indicates the opposite.\n",
        "   - Skewness is calculated using the third standardized moment.\n",
        "\n",
        "2. **Kurtosis**:\n",
        "   - Kurtosis measures the peakedness or flatness of a distribution compared to the normal distribution.\n",
        "   - A normal distribution has a kurtosis of 3 (excess kurtosis of 0).\n",
        "   - Higher kurtosis indicates sharper, more peaked distributions (leptokurtic), while lower kurtosis indicates flatter distributions (platykurtic).\n",
        "   - Kurtosis is calculated using the fourth standardized moment."
      ],
      "metadata": {
        "id": "HFJQiIUkhSz4"
      }
    },
    {
      "cell_type": "code",
      "source": [
        "uploaded = files.upload()"
      ],
      "metadata": {
        "colab": {
          "base_uri": "https://localhost:8080/",
          "height": 72
        },
        "id": "ZOTwKgRmm9_H",
        "outputId": "4dff7b01-0148-4e04-e3ad-3eb902267615"
      },
      "execution_count": null,
      "outputs": [
        {
          "output_type": "display_data",
          "data": {
            "text/plain": [
              "<IPython.core.display.HTML object>"
            ],
            "text/html": [
              "\n",
              "     <input type=\"file\" id=\"files-ab846a84-6a7f-4ef1-b3d1-8963afce9c9a\" name=\"files[]\" multiple disabled\n",
              "        style=\"border:none\" />\n",
              "     <output id=\"result-ab846a84-6a7f-4ef1-b3d1-8963afce9c9a\">\n",
              "      Upload widget is only available when the cell has been executed in the\n",
              "      current browser session. Please rerun this cell to enable.\n",
              "      </output>\n",
              "      <script>// Copyright 2017 Google LLC\n",
              "//\n",
              "// Licensed under the Apache License, Version 2.0 (the \"License\");\n",
              "// you may not use this file except in compliance with the License.\n",
              "// You may obtain a copy of the License at\n",
              "//\n",
              "//      http://www.apache.org/licenses/LICENSE-2.0\n",
              "//\n",
              "// Unless required by applicable law or agreed to in writing, software\n",
              "// distributed under the License is distributed on an \"AS IS\" BASIS,\n",
              "// WITHOUT WARRANTIES OR CONDITIONS OF ANY KIND, either express or implied.\n",
              "// See the License for the specific language governing permissions and\n",
              "// limitations under the License.\n",
              "\n",
              "/**\n",
              " * @fileoverview Helpers for google.colab Python module.\n",
              " */\n",
              "(function(scope) {\n",
              "function span(text, styleAttributes = {}) {\n",
              "  const element = document.createElement('span');\n",
              "  element.textContent = text;\n",
              "  for (const key of Object.keys(styleAttributes)) {\n",
              "    element.style[key] = styleAttributes[key];\n",
              "  }\n",
              "  return element;\n",
              "}\n",
              "\n",
              "// Max number of bytes which will be uploaded at a time.\n",
              "const MAX_PAYLOAD_SIZE = 100 * 1024;\n",
              "\n",
              "function _uploadFiles(inputId, outputId) {\n",
              "  const steps = uploadFilesStep(inputId, outputId);\n",
              "  const outputElement = document.getElementById(outputId);\n",
              "  // Cache steps on the outputElement to make it available for the next call\n",
              "  // to uploadFilesContinue from Python.\n",
              "  outputElement.steps = steps;\n",
              "\n",
              "  return _uploadFilesContinue(outputId);\n",
              "}\n",
              "\n",
              "// This is roughly an async generator (not supported in the browser yet),\n",
              "// where there are multiple asynchronous steps and the Python side is going\n",
              "// to poll for completion of each step.\n",
              "// This uses a Promise to block the python side on completion of each step,\n",
              "// then passes the result of the previous step as the input to the next step.\n",
              "function _uploadFilesContinue(outputId) {\n",
              "  const outputElement = document.getElementById(outputId);\n",
              "  const steps = outputElement.steps;\n",
              "\n",
              "  const next = steps.next(outputElement.lastPromiseValue);\n",
              "  return Promise.resolve(next.value.promise).then((value) => {\n",
              "    // Cache the last promise value to make it available to the next\n",
              "    // step of the generator.\n",
              "    outputElement.lastPromiseValue = value;\n",
              "    return next.value.response;\n",
              "  });\n",
              "}\n",
              "\n",
              "/**\n",
              " * Generator function which is called between each async step of the upload\n",
              " * process.\n",
              " * @param {string} inputId Element ID of the input file picker element.\n",
              " * @param {string} outputId Element ID of the output display.\n",
              " * @return {!Iterable<!Object>} Iterable of next steps.\n",
              " */\n",
              "function* uploadFilesStep(inputId, outputId) {\n",
              "  const inputElement = document.getElementById(inputId);\n",
              "  inputElement.disabled = false;\n",
              "\n",
              "  const outputElement = document.getElementById(outputId);\n",
              "  outputElement.innerHTML = '';\n",
              "\n",
              "  const pickedPromise = new Promise((resolve) => {\n",
              "    inputElement.addEventListener('change', (e) => {\n",
              "      resolve(e.target.files);\n",
              "    });\n",
              "  });\n",
              "\n",
              "  const cancel = document.createElement('button');\n",
              "  inputElement.parentElement.appendChild(cancel);\n",
              "  cancel.textContent = 'Cancel upload';\n",
              "  const cancelPromise = new Promise((resolve) => {\n",
              "    cancel.onclick = () => {\n",
              "      resolve(null);\n",
              "    };\n",
              "  });\n",
              "\n",
              "  // Wait for the user to pick the files.\n",
              "  const files = yield {\n",
              "    promise: Promise.race([pickedPromise, cancelPromise]),\n",
              "    response: {\n",
              "      action: 'starting',\n",
              "    }\n",
              "  };\n",
              "\n",
              "  cancel.remove();\n",
              "\n",
              "  // Disable the input element since further picks are not allowed.\n",
              "  inputElement.disabled = true;\n",
              "\n",
              "  if (!files) {\n",
              "    return {\n",
              "      response: {\n",
              "        action: 'complete',\n",
              "      }\n",
              "    };\n",
              "  }\n",
              "\n",
              "  for (const file of files) {\n",
              "    const li = document.createElement('li');\n",
              "    li.append(span(file.name, {fontWeight: 'bold'}));\n",
              "    li.append(span(\n",
              "        `(${file.type || 'n/a'}) - ${file.size} bytes, ` +\n",
              "        `last modified: ${\n",
              "            file.lastModifiedDate ? file.lastModifiedDate.toLocaleDateString() :\n",
              "                                    'n/a'} - `));\n",
              "    const percent = span('0% done');\n",
              "    li.appendChild(percent);\n",
              "\n",
              "    outputElement.appendChild(li);\n",
              "\n",
              "    const fileDataPromise = new Promise((resolve) => {\n",
              "      const reader = new FileReader();\n",
              "      reader.onload = (e) => {\n",
              "        resolve(e.target.result);\n",
              "      };\n",
              "      reader.readAsArrayBuffer(file);\n",
              "    });\n",
              "    // Wait for the data to be ready.\n",
              "    let fileData = yield {\n",
              "      promise: fileDataPromise,\n",
              "      response: {\n",
              "        action: 'continue',\n",
              "      }\n",
              "    };\n",
              "\n",
              "    // Use a chunked sending to avoid message size limits. See b/62115660.\n",
              "    let position = 0;\n",
              "    do {\n",
              "      const length = Math.min(fileData.byteLength - position, MAX_PAYLOAD_SIZE);\n",
              "      const chunk = new Uint8Array(fileData, position, length);\n",
              "      position += length;\n",
              "\n",
              "      const base64 = btoa(String.fromCharCode.apply(null, chunk));\n",
              "      yield {\n",
              "        response: {\n",
              "          action: 'append',\n",
              "          file: file.name,\n",
              "          data: base64,\n",
              "        },\n",
              "      };\n",
              "\n",
              "      let percentDone = fileData.byteLength === 0 ?\n",
              "          100 :\n",
              "          Math.round((position / fileData.byteLength) * 100);\n",
              "      percent.textContent = `${percentDone}% done`;\n",
              "\n",
              "    } while (position < fileData.byteLength);\n",
              "  }\n",
              "\n",
              "  // All done.\n",
              "  yield {\n",
              "    response: {\n",
              "      action: 'complete',\n",
              "    }\n",
              "  };\n",
              "}\n",
              "\n",
              "scope.google = scope.google || {};\n",
              "scope.google.colab = scope.google.colab || {};\n",
              "scope.google.colab._files = {\n",
              "  _uploadFiles,\n",
              "  _uploadFilesContinue,\n",
              "};\n",
              "})(self);\n",
              "</script> "
            ]
          },
          "metadata": {}
        },
        {
          "output_type": "stream",
          "name": "stdout",
          "text": [
            "Saving llustration-of-skewness-and-kurtosis.png to llustration-of-skewness-and-kurtosis (1).png\n"
          ]
        }
      ]
    },
    {
      "cell_type": "code",
      "source": [
        "Image('llustration-of-skewness-and-kurtosis.png')"
      ],
      "metadata": {
        "colab": {
          "base_uri": "https://localhost:8080/",
          "height": 509
        },
        "id": "ozTi0pvqplNQ",
        "outputId": "5dad2b56-3e42-4674-bb7d-c38f24757921"
      },
      "execution_count": null,
      "outputs": [
        {
          "output_type": "execute_result",
          "data": {
            "image/png": "[encoded data removed]",
            "text/plain": [
              "<IPython.core.display.Image object>"
            ]
          },
          "metadata": {},
          "execution_count": 19
        }
      ]
    },
    {
      "cell_type": "code",
      "source": [
        "uploaded = files.upload()"
      ],
      "metadata": {
        "colab": {
          "base_uri": "https://localhost:8080/",
          "height": 72
        },
        "id": "m0NSWzmMpxAK",
        "outputId": "7a9889ee-bbbc-4f13-fe61-2b8c4f582fe8"
      },
      "execution_count": null,
      "outputs": [
        {
          "output_type": "display_data",
          "data": {
            "text/plain": [
              "<IPython.core.display.HTML object>"
            ],
            "text/html": [
              "\n",
              "     <input type=\"file\" id=\"files-029c824a-a3d4-46da-a4fd-ac1d6020b564\" name=\"files[]\" multiple disabled\n",
              "        style=\"border:none\" />\n",
              "     <output id=\"result-029c824a-a3d4-46da-a4fd-ac1d6020b564\">\n",
              "      Upload widget is only available when the cell has been executed in the\n",
              "      current browser session. Please rerun this cell to enable.\n",
              "      </output>\n",
              "      <script>// Copyright 2017 Google LLC\n",
              "//\n",
              "// Licensed under the Apache License, Version 2.0 (the \"License\");\n",
              "// you may not use this file except in compliance with the License.\n",
              "// You may obtain a copy of the License at\n",
              "//\n",
              "//      http://www.apache.org/licenses/LICENSE-2.0\n",
              "//\n",
              "// Unless required by applicable law or agreed to in writing, software\n",
              "// distributed under the License is distributed on an \"AS IS\" BASIS,\n",
              "// WITHOUT WARRANTIES OR CONDITIONS OF ANY KIND, either express or implied.\n",
              "// See the License for the specific language governing permissions and\n",
              "// limitations under the License.\n",
              "\n",
              "/**\n",
              " * @fileoverview Helpers for google.colab Python module.\n",
              " */\n",
              "(function(scope) {\n",
              "function span(text, styleAttributes = {}) {\n",
              "  const element = document.createElement('span');\n",
              "  element.textContent = text;\n",
              "  for (const key of Object.keys(styleAttributes)) {\n",
              "    element.style[key] = styleAttributes[key];\n",
              "  }\n",
              "  return element;\n",
              "}\n",
              "\n",
              "// Max number of bytes which will be uploaded at a time.\n",
              "const MAX_PAYLOAD_SIZE = 100 * 1024;\n",
              "\n",
              "function _uploadFiles(inputId, outputId) {\n",
              "  const steps = uploadFilesStep(inputId, outputId);\n",
              "  const outputElement = document.getElementById(outputId);\n",
              "  // Cache steps on the outputElement to make it available for the next call\n",
              "  // to uploadFilesContinue from Python.\n",
              "  outputElement.steps = steps;\n",
              "\n",
              "  return _uploadFilesContinue(outputId);\n",
              "}\n",
              "\n",
              "// This is roughly an async generator (not supported in the browser yet),\n",
              "// where there are multiple asynchronous steps and the Python side is going\n",
              "// to poll for completion of each step.\n",
              "// This uses a Promise to block the python side on completion of each step,\n",
              "// then passes the result of the previous step as the input to the next step.\n",
              "function _uploadFilesContinue(outputId) {\n",
              "  const outputElement = document.getElementById(outputId);\n",
              "  const steps = outputElement.steps;\n",
              "\n",
              "  const next = steps.next(outputElement.lastPromiseValue);\n",
              "  return Promise.resolve(next.value.promise).then((value) => {\n",
              "    // Cache the last promise value to make it available to the next\n",
              "    // step of the generator.\n",
              "    outputElement.lastPromiseValue = value;\n",
              "    return next.value.response;\n",
              "  });\n",
              "}\n",
              "\n",
              "/**\n",
              " * Generator function which is called between each async step of the upload\n",
              " * process.\n",
              " * @param {string} inputId Element ID of the input file picker element.\n",
              " * @param {string} outputId Element ID of the output display.\n",
              " * @return {!Iterable<!Object>} Iterable of next steps.\n",
              " */\n",
              "function* uploadFilesStep(inputId, outputId) {\n",
              "  const inputElement = document.getElementById(inputId);\n",
              "  inputElement.disabled = false;\n",
              "\n",
              "  const outputElement = document.getElementById(outputId);\n",
              "  outputElement.innerHTML = '';\n",
              "\n",
              "  const pickedPromise = new Promise((resolve) => {\n",
              "    inputElement.addEventListener('change', (e) => {\n",
              "      resolve(e.target.files);\n",
              "    });\n",
              "  });\n",
              "\n",
              "  const cancel = document.createElement('button');\n",
              "  inputElement.parentElement.appendChild(cancel);\n",
              "  cancel.textContent = 'Cancel upload';\n",
              "  const cancelPromise = new Promise((resolve) => {\n",
              "    cancel.onclick = () => {\n",
              "      resolve(null);\n",
              "    };\n",
              "  });\n",
              "\n",
              "  // Wait for the user to pick the files.\n",
              "  const files = yield {\n",
              "    promise: Promise.race([pickedPromise, cancelPromise]),\n",
              "    response: {\n",
              "      action: 'starting',\n",
              "    }\n",
              "  };\n",
              "\n",
              "  cancel.remove();\n",
              "\n",
              "  // Disable the input element since further picks are not allowed.\n",
              "  inputElement.disabled = true;\n",
              "\n",
              "  if (!files) {\n",
              "    return {\n",
              "      response: {\n",
              "        action: 'complete',\n",
              "      }\n",
              "    };\n",
              "  }\n",
              "\n",
              "  for (const file of files) {\n",
              "    const li = document.createElement('li');\n",
              "    li.append(span(file.name, {fontWeight: 'bold'}));\n",
              "    li.append(span(\n",
              "        `(${file.type || 'n/a'}) - ${file.size} bytes, ` +\n",
              "        `last modified: ${\n",
              "            file.lastModifiedDate ? file.lastModifiedDate.toLocaleDateString() :\n",
              "                                    'n/a'} - `));\n",
              "    const percent = span('0% done');\n",
              "    li.appendChild(percent);\n",
              "\n",
              "    outputElement.appendChild(li);\n",
              "\n",
              "    const fileDataPromise = new Promise((resolve) => {\n",
              "      const reader = new FileReader();\n",
              "      reader.onload = (e) => {\n",
              "        resolve(e.target.result);\n",
              "      };\n",
              "      reader.readAsArrayBuffer(file);\n",
              "    });\n",
              "    // Wait for the data to be ready.\n",
              "    let fileData = yield {\n",
              "      promise: fileDataPromise,\n",
              "      response: {\n",
              "        action: 'continue',\n",
              "      }\n",
              "    };\n",
              "\n",
              "    // Use a chunked sending to avoid message size limits. See b/62115660.\n",
              "    let position = 0;\n",
              "    do {\n",
              "      const length = Math.min(fileData.byteLength - position, MAX_PAYLOAD_SIZE);\n",
              "      const chunk = new Uint8Array(fileData, position, length);\n",
              "      position += length;\n",
              "\n",
              "      const base64 = btoa(String.fromCharCode.apply(null, chunk));\n",
              "      yield {\n",
              "        response: {\n",
              "          action: 'append',\n",
              "          file: file.name,\n",
              "          data: base64,\n",
              "        },\n",
              "      };\n",
              "\n",
              "      let percentDone = fileData.byteLength === 0 ?\n",
              "          100 :\n",
              "          Math.round((position / fileData.byteLength) * 100);\n",
              "      percent.textContent = `${percentDone}% done`;\n",
              "\n",
              "    } while (position < fileData.byteLength);\n",
              "  }\n",
              "\n",
              "  // All done.\n",
              "  yield {\n",
              "    response: {\n",
              "      action: 'complete',\n",
              "    }\n",
              "  };\n",
              "}\n",
              "\n",
              "scope.google = scope.google || {};\n",
              "scope.google.colab = scope.google.colab || {};\n",
              "scope.google.colab._files = {\n",
              "  _uploadFiles,\n",
              "  _uploadFilesContinue,\n",
              "};\n",
              "})(self);\n",
              "</script> "
            ]
          },
          "metadata": {}
        },
        {
          "output_type": "stream",
          "name": "stdout",
          "text": [
            "Saving 0_EspRffM3pfKLL3Oo.jpg to 0_EspRffM3pfKLL3Oo.jpg\n"
          ]
        }
      ]
    },
    {
      "cell_type": "code",
      "source": [
        "Image(\"0_EspRffM3pfKLL3Oo.jpg\")"
      ],
      "metadata": {
        "colab": {
          "base_uri": "https://localhost:8080/",
          "height": 401
        },
        "id": "NP5_ehY-p1eG",
        "outputId": "132d800d-5c06-48e0-e78c-5338dd0c6f80"
      },
      "execution_count": null,
      "outputs": [
        {
          "output_type": "execute_result",
          "data": {
            "image/jpeg": "[encoded data removed]",
            "text/plain": [
              "<IPython.core.display.Image object>"
            ]
          },
          "metadata": {},
          "execution_count": 21
        }
      ]
    },
    {
      "cell_type": "code",
      "source": [
        "import numpy as np\n",
        "from scipy.stats import skew, kurtosis\n",
        "\n",
        "# Sample dataset\n",
        "data = np.array([10, 20, 30, 40, 50, 60, 70, 80, 90, 100])\n",
        "\n",
        "# Skewness\n",
        "skewness = skew(data)\n",
        "\n",
        "# Kurtosis\n",
        "excess_kurtosis = kurtosis(data)\n",
        "\n",
        "print(\"Skewness:\", skewness)\n",
        "print(\"Excess Kurtosis:\", excess_kurtosis)\n"
      ],
      "metadata": {
        "colab": {
          "base_uri": "https://localhost:8080/"
        },
        "id": "_iuvzAmFgpJ8",
        "outputId": "31ad4073-44c0-4040-bd5c-1d463ec11d29"
      },
      "execution_count": null,
      "outputs": [
        {
          "output_type": "stream",
          "name": "stdout",
          "text": [
            "Skewness: 0.0\n",
            "Excess Kurtosis: -1.2242424242424241\n"
          ]
        }
      ]
    },
    {
      "cell_type": "markdown",
      "source": [
        "Explanation of the code:\n",
        "\n",
        "We import the necessary libraries: NumPy for numerical operations and SciPy for statistical functions.\n",
        "\n",
        "We define a sample dataset.\n",
        "\n",
        "Skewness is calculated using the skew() function from SciPy, which returns the skewness of the dataset.\n",
        "\n",
        "Kurtosis is calculated using the kurtosis() function from SciPy, which returns the excess kurtosis of the dataset (subtracting 3 to get excess kurtosis).\n",
        "\n",
        "Finally, we print out the values of skewness and kurtosis."
      ],
      "metadata": {
        "id": "W26XO8uGj1tR"
      }
    },
    {
      "cell_type": "markdown",
      "source": [
        "Let's illustrate skewness and kurtosis visually."
      ],
      "metadata": {
        "id": "PK0hVAPYkQWa"
      }
    },
    {
      "cell_type": "code",
      "source": [
        "import numpy as np\n",
        "import matplotlib.pyplot as plt\n",
        "from scipy.stats import skew, kurtosis\n",
        "\n",
        "# Generate sample data\n",
        "np.random.seed(0)\n",
        "data_pos_skew = np.random.gamma(2, scale=2, size=1000)  # Positively skewed data\n",
        "data_neg_skew = 100 - data_pos_skew  # Negatively skewed data\n",
        "data_lepto_kurt = np.random.normal(loc=0, scale=1, size=1000)  # Leptokurtic data\n",
        "data_platy_kurt = np.random.uniform(low=-1, high=1, size=1000)  # Platykurtic data\n",
        "\n",
        "# Plot histograms\n",
        "fig, axs = plt.subplots(2, 2, figsize=(10, 8))\n",
        "\n",
        "# Positively skewed data\n",
        "axs[0, 0].hist(data_pos_skew, bins=30, color='skyblue', edgecolor='black')\n",
        "axs[0, 0].set_title('Positively Skewed Data')\n",
        "axs[0, 0].set_ylabel('Frequency')\n",
        "\n",
        "# Negatively skewed data\n",
        "axs[0, 1].hist(data_neg_skew, bins=30, color='salmon', edgecolor='black')\n",
        "axs[0, 1].set_title('Negatively Skewed Data')\n",
        "\n",
        "# Leptokurtic data\n",
        "axs[1, 0].hist(data_lepto_kurt, bins=30, color='lightgreen', edgecolor='black')\n",
        "axs[1, 0].set_title('Leptokurtic Data')\n",
        "axs[1, 0].set_ylabel('Frequency')\n",
        "axs[1, 0].set_xlabel('Value')\n",
        "\n",
        "# Platykurtic data\n",
        "axs[1, 1].hist(data_platy_kurt, bins=30, color='gold', edgecolor='black')\n",
        "axs[1, 1].set_title('Platykurtic Data')\n",
        "axs[1, 1].set_xlabel('Value')\n",
        "\n",
        "plt.tight_layout()\n",
        "plt.show()\n"
      ],
      "metadata": {
        "colab": {
          "base_uri": "https://localhost:8080/",
          "height": 807
        },
        "id": "DyF6RdRsh4kF",
        "outputId": "a6833694-e02c-4e3f-fdf8-a4ba9d1acdff"
      },
      "execution_count": null,
      "outputs": [
        {
          "output_type": "display_data",
          "data": {
            "text/plain": [
              "<Figure size 1000x800 with 4 Axes>"
            ],
            "image/png": "[encoded data removed]"
          },
          "metadata": {}
        }
      ]
    },
    {
      "cell_type": "markdown",
      "source": [
        "\n",
        "\n",
        "1. `np.random.seed(0)`: Sets the random seed to ensure reproducibility of random numbers.\n",
        "\n",
        "2. `data_pos_skew = np.random.gamma(2, scale=2, size=1000)`: Generates positively skewed data using a gamma distribution with shape parameter 2 and scale parameter 2.\n",
        "\n",
        "3. `data_neg_skew = 100 - data_pos_skew`: Creates negatively skewed data by subtracting `data_pos_skew` from 100.\n",
        "\n",
        "4. `data_lepto_kurt = np.random.normal(loc=0, scale=1, size=1000)`: Generates leptokurtic (high kurtosis) data using a normal distribution with mean 0 and standard deviation 1.\n",
        "\n",
        "5. `data_platy_kurt = np.random.uniform(low=-1, high=1, size=1000)`: Generates platykurtic (low kurtosis) data using a uniform distribution between -1 and 1.\n",
        "\n",
        "\n",
        "We generate four sets of sample data: positively skewed, negatively skewed, leptokurtic, and platykurtic.\n",
        "\n",
        "We plot histograms for each dataset using Matplotlib.\n",
        "\n",
        "The histograms visually demonstrate the skewness and kurtosis of each dataset.\n",
        "Positively skewed data has a longer tail on the right side, while negatively skewed data has a longer tail on the left side.\n",
        "\n",
        "Leptokurtic data has a sharper peak and heavier tails compared to a normal distribution, while platykurtic data has a flatter peak and lighter tails."
      ],
      "metadata": {
        "id": "4yzXS1FysJJZ"
      }
    },
    {
      "cell_type": "code",
      "source": [],
      "metadata": {
        "id": "pnTXb3F4sZAV"
      },
      "execution_count": null,
      "outputs": []
    }
  ]
}