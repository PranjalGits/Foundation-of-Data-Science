{
  "nbformat": 4,
  "nbformat_minor": 0,
  "metadata": {
    "colab": {
      "provenance": []
    },
    "kernelspec": {
      "name": "python3",
      "display_name": "Python 3"
    },
    "language_info": {
      "name": "python"
    }
  },
  "cells": [
    {
      "cell_type": "markdown",
      "source": [
        "# **Import the Required Library**"
      ],
      "metadata": {
        "id": "uSygV6M4cPgZ"
      }
    },
    {
      "cell_type": "code",
      "execution_count": 2,
      "metadata": {
        "id": "-xj8jS87b78G"
      },
      "outputs": [],
      "source": [
        "import numpy as np"
      ]
    },
    {
      "cell_type": "markdown",
      "source": [
        " **Q1. Write a Numpy program to get the Numpy version.**"
      ],
      "metadata": {
        "id": "t47s-BzrcFP7"
      }
    },
    {
      "cell_type": "code",
      "source": [
        "import numpy as np\n",
        "\n",
        "# Get the NumPy version\n",
        "print(np.__version__)\n"
      ],
      "metadata": {
        "colab": {
          "base_uri": "https://localhost:8080/"
        },
        "id": "ZksKMF-CcIE6",
        "outputId": "908a0f9c-79dc-4b83-e1ab-c1a67420f127"
      },
      "execution_count": 3,
      "outputs": [
        {
          "output_type": "stream",
          "name": "stdout",
          "text": [
            "1.23.5\n"
          ]
        }
      ]
    },
    {
      "cell_type": "markdown",
      "source": [
        "**Q2. Write a NumPy program to test whether none of the\n",
        "elements of a given array are zero.**"
      ],
      "metadata": {
        "id": "wRi8dg6FdRet"
      }
    },
    {
      "cell_type": "code",
      "source": [
        "\n",
        "# Test array\n",
        "test_array = np.array([1, 2, 3, 4, 5])\n",
        "\n",
        "# Check if none of the elements are zero\n",
        "none_zero = np.all(test_array != 0)\n",
        "\n",
        "print(\"None of the elements are zero:\", none_zero)\n",
        "\n",
        "# Test array with a zero element\n",
        "test_array_with_zero = np.array([1, 2, 0, 4, 5])\n",
        "\n",
        "# Check if none of the elements are zero\n",
        "none_zero_with_zero = np.all(test_array_with_zero != 0)\n",
        "\n",
        "print(\"None of the elements are zero:\", none_zero_with_zero)\n"
      ],
      "metadata": {
        "colab": {
          "base_uri": "https://localhost:8080/"
        },
        "id": "3BGdgfKTcwXw",
        "outputId": "f24a7e73-994d-44ee-eb0e-904e1466a189"
      },
      "execution_count": 4,
      "outputs": [
        {
          "output_type": "stream",
          "name": "stdout",
          "text": [
            "None of the elements are zero: True\n",
            "None of the elements are zero: False\n"
          ]
        }
      ]
    },
    {
      "cell_type": "markdown",
      "source": [
        "**Q3.Write a NumPy program to create an element-wise\n",
        "comparison (greater, greater_equal, less and less_equal) of\n",
        "two given arrays.**"
      ],
      "metadata": {
        "id": "LuPu6y5Cdc66"
      }
    },
    {
      "cell_type": "code",
      "source": [
        "\n",
        "# Create two arrays\n",
        "array1 = np.array([1, 2, 3, 4, 5])\n",
        "array2 = np.array([2, 2, 3, 3, 4])\n",
        "\n",
        "# Element-wise comparison\n",
        "greater_than = array1 > array2\n",
        "greater_equal = array1 >= array2\n",
        "less_than = array1 < array2\n",
        "less_equal = array1 <= array2\n",
        "\n",
        "# Print the results\n",
        "print(\"Array1 > Array2:\", greater_than)\n",
        "print(\"Array1 >= Array2:\", greater_equal)\n",
        "print(\"Array1 < Array2:\", less_than)\n",
        "print(\"Array1 <= Array2:\", less_equal)\n"
      ],
      "metadata": {
        "colab": {
          "base_uri": "https://localhost:8080/"
        },
        "id": "HOcgm0JIdHLX",
        "outputId": "ace8c2e4-a5f6-431b-d7f3-2a338b1e398f"
      },
      "execution_count": 5,
      "outputs": [
        {
          "output_type": "stream",
          "name": "stdout",
          "text": [
            "Array1 > Array2: [False False False  True  True]\n",
            "Array1 >= Array2: [False  True  True  True  True]\n",
            "Array1 < Array2: [ True False False False False]\n",
            "Array1 <= Array2: [ True  True  True False False]\n"
          ]
        }
      ]
    },
    {
      "cell_type": "markdown",
      "source": [
        "**Q4. Write a NumPy program to create an array with the values\n",
        "1, 7, 13, 105 and determine the size of the memory occupied\n",
        "by the array.**"
      ],
      "metadata": {
        "id": "EhKC_-rXd18S"
      }
    },
    {
      "cell_type": "code",
      "source": [
        "\n",
        "# Create the array\n",
        "arr = np.array([1, 7, 13, 105])\n",
        "\n",
        "# Determine the size of the memory occupied by the array\n",
        "memory_size_bytes = arr.nbytes\n",
        "\n",
        "print(\"Array:\", arr)\n",
        "print(\"Memory size occupied by the array:\", memory_size_bytes, \"bytes\")\n"
      ],
      "metadata": {
        "colab": {
          "base_uri": "https://localhost:8080/"
        },
        "id": "iW6iaCA2dwOp",
        "outputId": "6a480e01-eb92-4c51-c754-7da5fcb81e72"
      },
      "execution_count": 6,
      "outputs": [
        {
          "output_type": "stream",
          "name": "stdout",
          "text": [
            "Array: [  1   7  13 105]\n",
            "Memory size occupied by the array: 32 bytes\n"
          ]
        }
      ]
    },
    {
      "cell_type": "markdown",
      "source": [
        "**Q5. Write a NumPy program to create an array of integers\n",
        "from 30 to 70.**"
      ],
      "metadata": {
        "id": "sOUfWt21eOFH"
      }
    },
    {
      "cell_type": "code",
      "source": [
        "\n",
        "# Create an array of integers from 30 to 70\n",
        "arr = np.arange(30, 71)\n",
        "\n",
        "print(\"Array of integers from 30 to 70:\", arr)\n"
      ],
      "metadata": {
        "colab": {
          "base_uri": "https://localhost:8080/"
        },
        "id": "3yKiyaNVeGbD",
        "outputId": "f38f1d97-7abc-493c-b5bc-7316df932bee"
      },
      "execution_count": 7,
      "outputs": [
        {
          "output_type": "stream",
          "name": "stdout",
          "text": [
            "Array of integers from 30 to 70: [30 31 32 33 34 35 36 37 38 39 40 41 42 43 44 45 46 47 48 49 50 51 52 53\n",
            " 54 55 56 57 58 59 60 61 62 63 64 65 66 67 68 69 70]\n"
          ]
        }
      ]
    },
    {
      "cell_type": "markdown",
      "source": [
        "**Q7.  Write a NumPy program to create a 3x3 identity matrix.\n",
        "Write a search NumPy program to create a 3X4 array and\n",
        "iterate over it.**"
      ],
      "metadata": {
        "id": "mqdG-Laaen2N"
      }
    },
    {
      "cell_type": "code",
      "source": [
        "\n",
        "# Creating a 3x3 identity matrix\n",
        "identity_matrix = np.eye(3)\n",
        "print(\"3x3 Identity Matrix:\")\n",
        "print(identity_matrix)\n",
        "\n",
        "# Creating a 3x4 array\n",
        "array_3x4 = np.array([[1, 2, 3, 4],\n",
        "                       [5, 6, 7, 8],\n",
        "                       [9, 10, 11, 12]])\n",
        "\n",
        "print(\"\\n3x4 Array:\")\n",
        "print(array_3x4)\n",
        "\n",
        "# Iterating over the 3x4 array\n",
        "print(\"\\nIterating over the 3x4 array:\")\n",
        "for row in array_3x4:\n",
        "    for element in row:\n",
        "        print(element, end=\" \")\n",
        "    print()\n"
      ],
      "metadata": {
        "colab": {
          "base_uri": "https://localhost:8080/"
        },
        "id": "8LOLZhxoes8T",
        "outputId": "3839fd33-7ed2-4e76-a022-80daf7eb7d5f"
      },
      "execution_count": 8,
      "outputs": [
        {
          "output_type": "stream",
          "name": "stdout",
          "text": [
            "3x3 Identity Matrix:\n",
            "[[1. 0. 0.]\n",
            " [0. 1. 0.]\n",
            " [0. 0. 1.]]\n",
            "\n",
            "3x4 Array:\n",
            "[[ 1  2  3  4]\n",
            " [ 5  6  7  8]\n",
            " [ 9 10 11 12]]\n",
            "\n",
            "Iterating over the 3x4 array:\n",
            "1 2 3 4 \n",
            "5 6 7 8 \n",
            "9 10 11 12 \n"
          ]
        }
      ]
    },
    {
      "cell_type": "markdown",
      "source": [
        "**or**"
      ],
      "metadata": {
        "id": "IDzyqDRNfU6i"
      }
    },
    {
      "cell_type": "code",
      "source": [
        "\n",
        "# Creating a 3x3 identity matrix\n",
        "identity_matrix = np.identity(3)\n",
        "print(\"3x3 Identity Matrix:\")\n",
        "print(identity_matrix)\n",
        "\n",
        "# Creating a 3x4 array\n",
        "array_3x4 = np.arange(1, 13).reshape(3, 4)\n",
        "print(\"\\n3x4 Array:\")\n",
        "print(array_3x4)\n",
        "\n",
        "# Iterating over the 3x4 array\n",
        "print(\"\\nIterating over the 3x4 array:\")\n",
        "for row in array_3x4:\n",
        "    for element in row:\n",
        "        print(element, end=\" \")\n",
        "    print()\n"
      ],
      "metadata": {
        "colab": {
          "base_uri": "https://localhost:8080/"
        },
        "id": "EHFrnKkzfW_c",
        "outputId": "ce73c852-6fa3-46f7-cfe0-a65d185cbb5d"
      },
      "execution_count": 9,
      "outputs": [
        {
          "output_type": "stream",
          "name": "stdout",
          "text": [
            "3x3 Identity Matrix:\n",
            "[[1. 0. 0.]\n",
            " [0. 1. 0.]\n",
            " [0. 0. 1.]]\n",
            "\n",
            "3x4 Array:\n",
            "[[ 1  2  3  4]\n",
            " [ 5  6  7  8]\n",
            " [ 9 10 11 12]]\n",
            "\n",
            "Iterating over the 3x4 array:\n",
            "1 2 3 4 \n",
            "5 6 7 8 \n",
            "9 10 11 12 \n"
          ]
        }
      ]
    }
  ]
}