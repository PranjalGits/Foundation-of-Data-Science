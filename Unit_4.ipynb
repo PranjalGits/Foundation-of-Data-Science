{
  "nbformat": 4,
  "nbformat_minor": 0,
  "metadata": {
    "colab": {
      "provenance": [],
      "authorship_tag": "ABX9TyOqK1JmhtViqePmyxYku3tP",
      "include_colab_link": true
    },
    "kernelspec": {
      "name": "python3",
      "display_name": "Python 3"
    },
    "language_info": {
      "name": "python"
    }
  },
  "cells": [
    {
      "cell_type": "markdown",
      "metadata": {
        "id": "view-in-github",
        "colab_type": "text"
      },
      "source": [
        "<a href=\"https://colab.research.google.com/github/PranjalGits/Foundation-of-Data-Science/blob/main/Unit_4.ipynb\" target=\"_parent\"><img src=\"https://colab.research.google.com/assets/colab-badge.svg\" alt=\"Open In Colab\"/></a>"
      ]
    },
    {
      "cell_type": "markdown",
      "source": [
        "\n",
        "1. **Correlation**:\n",
        "   - Correlation measures the strength and direction of the relationship between two variables.\n",
        "   - It's expressed as a value between -1 and 1:\n",
        "     - A value of 1 indicates a perfect positive correlation, meaning as one variable increases, the other variable also increases proportionally.\n",
        "     - A value of -1 indicates a perfect negative correlation, meaning as one variable increases, the other variable decreases proportionally.\n",
        "     - A value of 0 indicates no correlation, meaning there's no predictable relationship between the variables.\n",
        "   - Correlation is often used to determine if there's a relationship between variables and to what extent they vary together.\n",
        "\n",
        "2. **Scatter plot**:\n",
        "   - A scatter plot is a visual representation of the relationship between two variables.\n",
        "   - Each point on the plot represents a single observation, with one variable plotted on the x-axis and the other on the y-axis.\n",
        "   - It allows you to visually inspect patterns or trends in the data, such as linear or nonlinear relationships, clusters, or outliers.\n",
        "\n",
        "3. **Pearson correlation coefficient**:\n",
        "   - Pearson correlation coefficient, denoted as r, measures the strength and direction of the linear relationship between two continuous variables.\n",
        "   - It's calculated by dividing the covariance of the two variables by the product of their standard deviations.\n",
        "   - Pearson's r ranges from -1 to 1, with 1 indicating a perfect positive linear relationship, -1 indicating a perfect negative linear relationship, and 0 indicating no linear relationship.\n",
        "   - It's sensitive to outliers and assumes that the relationship between variables is linear.\n",
        "\n",
        "4. **Spearman's rank correlation coefficient**:\n",
        "   - Spearman's rank correlation coefficient, denoted as ρ (rho), assesses the strength and direction of the monotonic relationship between two variables.\n",
        "   - It's calculated by first ranking the data and then computing Pearson's correlation coefficient on the ranked data.\n",
        "   - Spearman's ρ ranges from -1 to 1, similar to Pearson's r, but it's less sensitive to outliers and non-linear relationships.\n",
        "   - It's often used when the relationship between variables is non-linear or when the data is ordinal rather than continuous.\n",
        "\n",
        "5. **Multiple correlation**:\n",
        "   - Multiple correlation measures the relationship between one variable and a group of two or more other variables.\n",
        "   - It assesses how well the group of predictor variables predicts the outcome variable.\n",
        "   - It's often used in regression analysis to understand the collective impact of multiple predictors on an outcome.\n",
        "\n",
        "6. **Partial correlation**:\n",
        "   - Partial correlation measures the degree of association between two variables while controlling for the influence of one or more additional variables.\n",
        "   - It helps to isolate the unique relationship between two variables after accounting for the effects of other variables.\n",
        "   - It's useful for exploring the direct relationship between variables when there are confounding variables present.\n"
      ],
      "metadata": {
        "id": "kHlchV8hunN0"
      }
    },
    {
      "cell_type": "code",
      "source": [
        "import numpy as np\n",
        "import matplotlib.pyplot as plt\n",
        "from scipy import stats\n",
        "\n",
        "# Generate sample data\n",
        "np.random.seed(0)\n",
        "x = np.random.randn(100)\n",
        "y = 2 * x + np.random.randn(100)  # Linear relationship with noise\n",
        "z = np.random.randn(100)  # Additional variable\n",
        "\n",
        "# Scatter plot\n",
        "plt.scatter(x, y)\n",
        "plt.title(\"Scatter Plot\")\n",
        "plt.xlabel(\"X\")\n",
        "plt.ylabel(\"Y\")\n",
        "plt.show()\n",
        "\n",
        "# Pearson correlation coefficient\n",
        "pearson_corr, _ = stats.pearsonr(x, y)\n",
        "print(\"Pearson correlation coefficient between X and Y:\", pearson_corr)\n",
        "\n",
        "# Spearman's rank correlation coefficient\n",
        "spearman_corr, _ = stats.spearmanr(x, y)\n",
        "print(\"Spearman's rank correlation coefficient between X and Y:\", spearman_corr)\n",
        "\n",
        "# Calculate the multiple correlation coefficient\n",
        "multiple_corr_xy_z = np.corrcoef(np.vstack((x, y, z)))\n",
        "multiple_corr_xy_z = multiple_corr_xy_z[0, 2]  # Extract correlation between x, y, and z\n",
        "print(\"Multiple correlation between X, Y, and Z:\", multiple_corr_xy_z)\n",
        "\n",
        "# Partial correlation (for demonstration purposes)\n",
        "partial_corr_xy_z = stats.pearsonr(stats.zscore(x), stats.zscore(y))[0]\n",
        "print(\"Partial correlation between X and Y controlling for Z:\", partial_corr_xy_z)\n"
      ],
      "metadata": {
        "colab": {
          "base_uri": "https://localhost:8080/",
          "height": 541
        },
        "id": "UcbqojnRvU36",
        "outputId": "72b4e52e-98fa-45ed-b925-a5a3df895c23"
      },
      "execution_count": null,
      "outputs": [
        {
          "output_type": "display_data",
          "data": {
            "text/plain": [
              "<Figure size 640x480 with 1 Axes>"
            ],
            "image/png": "[encoded data removed]"
          },
          "metadata": {}
        },
        {
          "output_type": "stream",
          "name": "stdout",
          "text": [
            "Pearson correlation coefficient between X and Y: 0.9006752160894268\n",
            "Spearman's rank correlation coefficient between X and Y: 0.8760516051605161\n",
            "Multiple correlation between X, Y, and Z: 0.0761159517772781\n",
            "Partial correlation between X and Y controlling for Z: 0.9006752160894269\n"
          ]
        }
      ]
    },
    {
      "cell_type": "markdown",
      "source": [
        "**Lets break down the code**"
      ],
      "metadata": {
        "id": "X-KZqYE3xiu6"
      }
    },
    {
      "cell_type": "markdown",
      "source": [
        "\n",
        "\n",
        "1. **Import Libraries**:\n",
        "   - We import necessary libraries: NumPy for numerical operations, Matplotlib for plotting, and SciPy's stats module for statistical functions.\n",
        "\n",
        "```python\n",
        "import numpy as np\n",
        "import matplotlib.pyplot as plt\n",
        "from scipy import stats\n",
        "```\n",
        "\n",
        "2. **Generate Sample Data**:\n",
        "   - We seed the random number generator for reproducibility.\n",
        "   - Generate random data `x`, `y`, and `z` with specific relationships:\n",
        "     - `x` is drawn from a standard normal distribution.\n",
        "     - `y` is generated as a linear function of `x` with added random noise.\n",
        "     - `z` is a random variable.\n",
        "\n",
        "```python\n",
        "np.random.seed(0)\n",
        "x = np.random.randn(100)\n",
        "y = 2 * x + np.random.randn(100)  # Linear relationship with noise\n",
        "z = np.random.randn(100)  # Additional variable\n",
        "```\n",
        "\n",
        "3. **Scatter Plot**:\n",
        "   - We create a scatter plot to visualize the relationship between `x` and `y`.\n",
        "\n",
        "```python\n",
        "plt.scatter(x, y)\n",
        "plt.title(\"Scatter Plot\")\n",
        "plt.xlabel(\"X\")\n",
        "plt.ylabel(\"Y\")\n",
        "plt.show()\n",
        "```\n",
        "\n",
        "4. **Pearson Correlation Coefficient**:\n",
        "   - We calculate the Pearson correlation coefficient between `x` and `y`.\n",
        "   - Pearson's correlation coefficient measures the linear relationship between two variables.\n",
        "\n",
        "```python\n",
        "pearson_corr, _ = stats.pearsonr(x, y)\n",
        "print(\"Pearson correlation coefficient between X and Y:\", pearson_corr)\n",
        "```\n",
        "\n",
        "5. **Spearman's Rank Correlation Coefficient**:\n",
        "   - We calculate Spearman's rank correlation coefficient between `x` and `y`.\n",
        "   - Spearman's correlation coefficient measures the monotonic relationship between two variables.\n",
        "\n",
        "```python\n",
        "spearman_corr, _ = stats.spearmanr(x, y)\n",
        "print(\"Spearman's rank correlation coefficient between X and Y:\", spearman_corr)\n",
        "```\n",
        "\n",
        "6. **Multiple Correlation Coefficient**:\n",
        "   - We calculate the multiple correlation coefficient between `x`, `y`, and `z`.\n",
        "   - We stack `x`, `y`, and `z` vertically and then calculate the correlation coefficient matrix.\n",
        "   - We extract the correlation coefficient between `x`, `y`, and `z` from the matrix.\n",
        "\n",
        "```python\n",
        "multiple_corr_xy_z = np.corrcoef(np.vstack((x, y, z)))\n",
        "multiple_corr_xy_z = multiple_corr_xy_z[0, 2]  # Extract correlation between x, y, and z\n",
        "print(\"Multiple correlation between X, Y, and Z:\", multiple_corr_xy_z)\n",
        "```\n",
        "\n",
        "7. **Partial Correlation**:\n",
        "   - For demonstration purposes, we calculate the partial correlation between `x` and `y`, controlling for `z`.\n",
        "   - We standardize `x` and `y` using z-scores before calculating the correlation coefficient.\n",
        "\n",
        "```python\n",
        "partial_corr_xy_z = stats.pearsonr(stats.zscore(x), stats.zscore(y))[0]\n",
        "print(\"Partial correlation between X and Y controlling for Z:\", partial_corr_xy_z)\n",
        "```\n"
      ],
      "metadata": {
        "id": "69Ot1cMNxpwQ"
      }
    },
    {
      "cell_type": "markdown",
      "source": [
        "\n",
        "Regression analysis is a statistical method used to model the relationship between a dependent variable and one or more independent variables. It is commonly used for prediction, forecasting, and understanding the relationship between variables in various fields such as economics, finance, sociology, and natural sciences. Regression analysis seeks to find the best-fitting line or curve that describes the relationship between variables.\n",
        "\n",
        "**Concept of Errors:**\n",
        "In regression analysis, errors (or residuals) are the differences between the observed values of the dependent variable and the values predicted by the regression model. They represent the discrepancy between the actual data points and the points that the model predicts. These errors are the result of various factors that are not accounted for by the model.\n",
        "\n",
        "**Principles of Least Squares:**\n",
        "The method of least squares is a statistical technique used to estimate the parameters of a mathematical model by minimizing the sum of the squares of the differences between the observed and predicted values. In simple terms, it finds the line that best fits the data by minimizing the sum of the squared vertical distances between the observed data points and the line. This technique is widely used in regression analysis because it provides a way to quantify the goodness of fit of the model to the data.\n",
        "\n",
        "**Simple Linear Regression and its Properties:**\n",
        "Simple linear regression is a statistical method used to model the relationship between two variables: a dependent variable (response) and an independent variable (predictor). The relationship is assumed to be linear, meaning that changes in the independent variable are associated with constant changes in the dependent variable.\n",
        "\n",
        "**Properties of simple linear regression:**\n",
        "\n",
        "1)Linearity: The relationship between the variables is assumed to be linear.\n",
        "\n",
        "2)Least Squares Criterion: The regression line is chosen to minimize the sum of the squared differences between the observed and predicted values.\n",
        "\n",
        "3)Independence of Errors: The errors (residuals) are assumed to be independent of each other.\n",
        "\n",
        "4)Constant Variance of Errors (Homoscedasticity): The variance of the errors is assumed to be constant for all levels of the independent variable.\n",
        "\n",
        "5)Normality of Errors: The errors are assumed to be normally distributed with a mean of zero.\n",
        "\n",
        "\n",
        "**Types of Regressions:**"
      ],
      "metadata": {
        "id": "P9zzodQSz2-p"
      }
    },
    {
      "cell_type": "code",
      "source": [],
      "metadata": {
        "id": "q4aEfPnAxibX"
      },
      "execution_count": null,
      "outputs": []
    },
    {
      "cell_type": "code",
      "source": [],
      "metadata": {
        "id": "tvFYq49EvWKG"
      },
      "execution_count": null,
      "outputs": []
    }
  ]
}